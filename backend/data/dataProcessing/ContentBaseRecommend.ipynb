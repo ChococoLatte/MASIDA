{
 "cells": [
  {
   "cell_type": "markdown",
   "id": "6004ae50",
   "metadata": {},
   "source": [
    "# 1. 재료 추천 기반 컨텐츠 베이스 알고리즘 (Material Recommendation Based Content Base Algorithm)"
   ]
  },
  {
   "cell_type": "markdown",
   "id": "85d802ab",
   "metadata": {},
   "source": [
    "# 칵테일 재료 데이터 읽기(Read cocktail ingredient data)"
   ]
  },
  {
   "cell_type": "code",
   "execution_count": null,
   "id": "b22476b7",
   "metadata": {},
   "outputs": [],
   "source": [
    "import pandas as pd"
   ]
  },
  {
   "cell_type": "code",
   "execution_count": 95,
   "id": "d1b4b44d",
   "metadata": {},
   "outputs": [],
   "source": [
    "csv = pd.read_csv('data/cocktail_ingredient_new.csv') # 칵테일 재료 데이터(Cocktail ingredient data)"
   ]
  },
  {
   "cell_type": "code",
   "execution_count": 96,
   "id": "a03da333",
   "metadata": {},
   "outputs": [
    {
     "data": {
      "text/html": [
       "<div>\n",
       "<style scoped>\n",
       "    .dataframe tbody tr th:only-of-type {\n",
       "        vertical-align: middle;\n",
       "    }\n",
       "\n",
       "    .dataframe tbody tr th {\n",
       "        vertical-align: top;\n",
       "    }\n",
       "\n",
       "    .dataframe thead th {\n",
       "        text-align: right;\n",
       "    }\n",
       "</style>\n",
       "<table border=\"1\" class=\"dataframe\">\n",
       "  <thead>\n",
       "    <tr style=\"text-align: right;\">\n",
       "      <th></th>\n",
       "      <th>Unnamed: 0</th>\n",
       "      <th>name_ko</th>\n",
       "      <th>type_string</th>\n",
       "      <th>ingredient_amount</th>\n",
       "      <th>ingredient_unit</th>\n",
       "      <th>type_string.1</th>\n",
       "      <th>cocktail_id</th>\n",
       "      <th>ingredient_id</th>\n",
       "    </tr>\n",
       "  </thead>\n",
       "  <tbody>\n",
       "    <tr>\n",
       "      <th>0</th>\n",
       "      <td>0</td>\n",
       "      <td>Cachaça, Sagatiba Velha</td>\n",
       "      <td>Rum</td>\n",
       "      <td>59.10</td>\n",
       "      <td>ml</td>\n",
       "      <td>Rum</td>\n",
       "      <td>1</td>\n",
       "      <td>386</td>\n",
       "    </tr>\n",
       "    <tr>\n",
       "      <th>1</th>\n",
       "      <td>1</td>\n",
       "      <td>Orgeat 아몬드 시럽</td>\n",
       "      <td>General</td>\n",
       "      <td>14.80</td>\n",
       "      <td>ml</td>\n",
       "      <td>General</td>\n",
       "      <td>1</td>\n",
       "      <td>1300</td>\n",
       "    </tr>\n",
       "    <tr>\n",
       "      <th>2</th>\n",
       "      <td>2</td>\n",
       "      <td>Elderflower liqueur, St. Germain</td>\n",
       "      <td>Liqueur</td>\n",
       "      <td>14.80</td>\n",
       "      <td>ml</td>\n",
       "      <td>Liqueur</td>\n",
       "      <td>1</td>\n",
       "      <td>739</td>\n",
       "    </tr>\n",
       "    <tr>\n",
       "      <th>3</th>\n",
       "      <td>3</td>\n",
       "      <td>라임 (4조각으로 나눠진)</td>\n",
       "      <td>General</td>\n",
       "      <td>1⁄2</td>\n",
       "      <td>NaN</td>\n",
       "      <td>General</td>\n",
       "      <td>1</td>\n",
       "      <td>1114</td>\n",
       "    </tr>\n",
       "    <tr>\n",
       "      <th>4</th>\n",
       "      <td>4</td>\n",
       "      <td>Light rum, Flor de Caña Dry 4</td>\n",
       "      <td>Rum</td>\n",
       "      <td>29.60</td>\n",
       "      <td>ml</td>\n",
       "      <td>Rum</td>\n",
       "      <td>2</td>\n",
       "      <td>1106</td>\n",
       "    </tr>\n",
       "  </tbody>\n",
       "</table>\n",
       "</div>"
      ],
      "text/plain": [
       "   Unnamed: 0                           name_ko type_string ingredient_amount  \\\n",
       "0           0           Cachaça, Sagatiba Velha         Rum             59.10   \n",
       "1           1                     Orgeat 아몬드 시럽     General             14.80   \n",
       "2           2  Elderflower liqueur, St. Germain     Liqueur             14.80   \n",
       "3           3                    라임 (4조각으로 나눠진)     General               1⁄2   \n",
       "4           4     Light rum, Flor de Caña Dry 4         Rum             29.60   \n",
       "\n",
       "  ingredient_unit type_string.1  cocktail_id  ingredient_id  \n",
       "0              ml           Rum            1            386  \n",
       "1              ml       General            1           1300  \n",
       "2              ml       Liqueur            1            739  \n",
       "3             NaN       General            1           1114  \n",
       "4              ml           Rum            2           1106  "
      ]
     },
     "execution_count": 96,
     "metadata": {},
     "output_type": "execute_result"
    }
   ],
   "source": [
    "csv.head()"
   ]
  },
  {
   "cell_type": "markdown",
   "id": "c7e1106e",
   "metadata": {},
   "source": [
    "# TF-IDF 를 위한 데이터프레임 만들기(Creating a data frame for TF-IDF)"
   ]
  },
  {
   "cell_type": "code",
   "execution_count": 101,
   "id": "78da60ba",
   "metadata": {},
   "outputs": [],
   "source": [
    "ingredient_list = []\n",
    "id_list = csv.drop_duplicates(['cocktail_id'])['cocktail_id'] # 칵테일 아이디 중복 제거(Cocktail ID deduplication)\n",
    "for cid in id_list: # 칵테일 id(Cocktail ID)\n",
    "    ingredient = '' # 칵테일 재료 정보(Cocktail Ingredients Information)\n",
    "    for row in range(len(csv[csv['cocktail_id'] == cid])):\n",
    "        ingredient += csv[csv['cocktail_id'] == cid].iloc[row]['name_ko'] + ' '\n",
    "    ingredient = ingredient.replace(',','')\n",
    "    ingredient_list.append(ingredient)"
   ]
  },
  {
   "cell_type": "code",
   "execution_count": 102,
   "id": "ca812ea6",
   "metadata": {},
   "outputs": [
    {
     "data": {
      "text/plain": [
       "'Cachaça Sagatiba Velha Orgeat 아몬드 시럽 Elderflower liqueur St. Germain 라임 (4조각으로 나눠진) '"
      ]
     },
     "execution_count": 102,
     "metadata": {},
     "output_type": "execute_result"
    }
   ],
   "source": [
    "ingredient_list[0]"
   ]
  },
  {
   "cell_type": "code",
   "execution_count": 103,
   "id": "ccad3d57",
   "metadata": {},
   "outputs": [],
   "source": [
    "data = pd.DataFrame({\n",
    "    'cocktail_id' : id_list,\n",
    "    'cocktail_ingredient' : ingredient_list\n",
    "})"
   ]
  },
  {
   "cell_type": "code",
   "execution_count": 131,
   "id": "0bb5a9a8",
   "metadata": {},
   "outputs": [
    {
     "data": {
      "text/html": [
       "<div>\n",
       "<style scoped>\n",
       "    .dataframe tbody tr th:only-of-type {\n",
       "        vertical-align: middle;\n",
       "    }\n",
       "\n",
       "    .dataframe tbody tr th {\n",
       "        vertical-align: top;\n",
       "    }\n",
       "\n",
       "    .dataframe thead th {\n",
       "        text-align: right;\n",
       "    }\n",
       "</style>\n",
       "<table border=\"1\" class=\"dataframe\">\n",
       "  <thead>\n",
       "    <tr style=\"text-align: right;\">\n",
       "      <th></th>\n",
       "      <th>index</th>\n",
       "      <th>cocktail_id</th>\n",
       "      <th>cocktail_ingredient</th>\n",
       "    </tr>\n",
       "  </thead>\n",
       "  <tbody>\n",
       "    <tr>\n",
       "      <th>0</th>\n",
       "      <td>0</td>\n",
       "      <td>1</td>\n",
       "      <td>Cachaça Sagatiba Velha Orgeat 아몬드 시럽 Elderflow...</td>\n",
       "    </tr>\n",
       "    <tr>\n",
       "      <th>1</th>\n",
       "      <td>4</td>\n",
       "      <td>2</td>\n",
       "      <td>Light rum Flor de Caña Dry 4 Peach liqueur Rot...</td>\n",
       "    </tr>\n",
       "    <tr>\n",
       "      <th>2</th>\n",
       "      <td>12</td>\n",
       "      <td>3</td>\n",
       "      <td>Cognac VSOP 간단한 시럽 비터스 Bittermens 'Elemakule T...</td>\n",
       "    </tr>\n",
       "    <tr>\n",
       "      <th>3</th>\n",
       "      <td>17</td>\n",
       "      <td>4</td>\n",
       "      <td>Campari Eau de vie of Douglas Fir Gin Ginger l...</td>\n",
       "    </tr>\n",
       "    <tr>\n",
       "      <th>4</th>\n",
       "      <td>22</td>\n",
       "      <td>5</td>\n",
       "      <td>Rye Aquavit Cynar Herbal liqueur Green Chartre...</td>\n",
       "    </tr>\n",
       "  </tbody>\n",
       "</table>\n",
       "</div>"
      ],
      "text/plain": [
       "   index  cocktail_id                                cocktail_ingredient\n",
       "0      0            1  Cachaça Sagatiba Velha Orgeat 아몬드 시럽 Elderflow...\n",
       "1      4            2  Light rum Flor de Caña Dry 4 Peach liqueur Rot...\n",
       "2     12            3  Cognac VSOP 간단한 시럽 비터스 Bittermens 'Elemakule T...\n",
       "3     17            4  Campari Eau de vie of Douglas Fir Gin Ginger l...\n",
       "4     22            5  Rye Aquavit Cynar Herbal liqueur Green Chartre..."
      ]
     },
     "execution_count": 131,
     "metadata": {},
     "output_type": "execute_result"
    }
   ],
   "source": [
    "data = data.reset_index() # 인덱스 초기화(Index initialization)\n",
    "data.head()\n",
    "# len(data) => 3676"
   ]
  },
  {
   "cell_type": "markdown",
   "id": "5afc5408",
   "metadata": {},
   "source": [
    "# TF-IDF 구현 (implement TF-IDF)"
   ]
  },
  {
   "cell_type": "code",
   "execution_count": 126,
   "id": "2d4df5ea",
   "metadata": {},
   "outputs": [],
   "source": [
    "import pandas as pd\n",
    "from sklearn.feature_extraction.text import TfidfVectorizer\n",
    "from sklearn.metrics.pairwise import cosine_similarity"
   ]
  },
  {
   "cell_type": "code",
   "execution_count": 127,
   "id": "9fb6cb2f",
   "metadata": {},
   "outputs": [
    {
     "data": {
      "text/plain": [
       "0"
      ]
     },
     "execution_count": 127,
     "metadata": {},
     "output_type": "execute_result"
    }
   ],
   "source": [
    "data['cocktail_ingredient'].isnull().sum() # 결측값 수(Number of missing values)"
   ]
  },
  {
   "cell_type": "code",
   "execution_count": 107,
   "id": "7461ade9",
   "metadata": {},
   "outputs": [
    {
     "name": "stdout",
     "output_type": "stream",
     "text": [
      "TF-IDF 행렬의 크기(shape) : (3676, 2036)\n"
     ]
    }
   ],
   "source": [
    "tfidf = TfidfVectorizer(stop_words='english')\n",
    "tfidf_matrix = tfidf.fit_transform(data['cocktail_ingredient'])\n",
    "print('TF-IDF 행렬의 크기(shape) :',tfidf_matrix.shape)\n",
    "# 출력: TF-IDF 행렬의 크기(shape) : (3676, 2036)\n",
    "# TF-IDF 행렬의 크기는 3676의 행을 가지고 2036의 열을 가지는 행렬이다\n",
    "# 3676개의 칵테일을 표현하기 위해서 총 2036개의 재료가 사용되었다\n",
    "# Output: Size of TF-IDF matrix (shape): (3676, 2036)\n",
    "# The size of the TF-IDF matrix is a matrix with rows of 3676 and columns of 2036\n",
    "# A total of 2036 ingredients were used to express 3676 cocktails"
   ]
  },
  {
   "cell_type": "markdown",
   "id": "0e6d8ab5",
   "metadata": {},
   "source": [
    "# TF-IDF 행렬의 코사인 유사도 계산 (Calculate cosine similarity of TF-IDF matrix)"
   ]
  },
  {
   "cell_type": "code",
   "execution_count": 108,
   "id": "f714b8f3",
   "metadata": {},
   "outputs": [
    {
     "name": "stdout",
     "output_type": "stream",
     "text": [
      "코사인 유사도 연산 결과 : (3676, 3676)\n"
     ]
    }
   ],
   "source": [
    "cosine_sim = cosine_similarity(tfidf_matrix, tfidf_matrix)\n",
    "print('코사인 유사도 연산 결과 :',cosine_sim.shape) # Cosine similarity calculation results"
   ]
  },
  {
   "cell_type": "markdown",
   "id": "f7ea0fe1",
   "metadata": {},
   "source": [
    "# 재료 기반 유사한 칵테일 추천 상위 6개(Top 6 similar cocktail recommendations based on ingredients)"
   ]
  },
  {
   "cell_type": "code",
   "execution_count": 134,
   "id": "8c1f13c7",
   "metadata": {},
   "outputs": [],
   "source": [
    "def get_recommendations(cid, cosine_sim=cosine_sim):\n",
    "    # 선택한 칵테일의 id로부터 해당 칵테일의 인덱스를 받아온다.\n",
    "    # Gets the index of the cocktail from the id of the selected cocktail.\n",
    "    idx = id_to_index[cid]\n",
    "    \n",
    "    # 해당 칵테일과 모든 칵테일의 유사도를 가져온다.\n",
    "    # Bring the similarity of all cocktails to the corresponding cocktails\n",
    "    sim_scores = list(enumerate(cosine_sim[idx]))\n",
    "\n",
    "    # 유사도에 따라 칵테일들을 정렬한다.\n",
    "    # Sort cocktails according to similarity.\n",
    "    sim_scores = sorted(sim_scores, key=lambda x: x[1], reverse=True)\n",
    "\n",
    "    # 가장 유사한 6개의 칵테일를 받아온다.\n",
    "    # I get the six most similar cocktails.\n",
    "    sim_scores = sim_scores[1:7]\n",
    "\n",
    "    # 가장 유사한 6개의 칵테일의 인덱스를 얻는다.\n",
    "    # Get indexes of the six most similar cocktails.\n",
    "    cocktail_indices = [idx[0] for idx in sim_scores]\n",
    "\n",
    "    # 가장 유사한 6개의 칵테일의 인덱스를 리턴한다.\n",
    "    # Returns the index of the six most similar cocktails.\n",
    "    return cocktail_indices"
   ]
  },
  {
   "cell_type": "code",
   "execution_count": 135,
   "id": "ca976e85",
   "metadata": {},
   "outputs": [
    {
     "data": {
      "text/plain": [
       "1"
      ]
     },
     "execution_count": 135,
     "metadata": {},
     "output_type": "execute_result"
    }
   ],
   "source": [
    "id_to_index = dict(zip(data['cocktail_id'], data.index))\n",
    "id_to_index[2]"
   ]
  },
  {
   "cell_type": "code",
   "execution_count": 136,
   "id": "11ad0f69",
   "metadata": {},
   "outputs": [
    {
     "data": {
      "text/plain": [
       "[487, 920, 167, 1095, 769, 54]"
      ]
     },
     "execution_count": 136,
     "metadata": {},
     "output_type": "execute_result"
    }
   ],
   "source": [
    "get_recommendations(1)"
   ]
  },
  {
   "cell_type": "markdown",
   "id": "72d3f844",
   "metadata": {},
   "source": [
    "# 결과 데이터프레임 생성 및 저장(Create and save the resulting data frame)"
   ]
  },
  {
   "cell_type": "code",
   "execution_count": 137,
   "id": "06d6cbad",
   "metadata": {},
   "outputs": [],
   "source": [
    "recommend_ingredient_1=[]\n",
    "recommend_ingredient_2=[]\n",
    "recommend_ingredient_3=[]\n",
    "recommend_ingredient_4=[]\n",
    "recommend_ingredient_5=[]\n",
    "recommend_ingredient_6=[]\n",
    "cocktail_id=[]\n",
    "\n",
    "for cid in id_list: # 칵테일 id(Cocktail ID)\n",
    "    re = get_recommendations(cid) # 재료 추천 칵테일 id (Ingredient recommendation cocktail id)\n",
    "    recommend_ingredient_1.append(re[0]) \n",
    "    recommend_ingredient_2.append(re[1])\n",
    "    recommend_ingredient_3.append(re[2])\n",
    "    recommend_ingredient_4.append(re[3])\n",
    "    recommend_ingredient_5.append(re[4])\n",
    "    recommend_ingredient_6.append(re[5])\n",
    "    cocktail_id.append(cid)"
   ]
  },
  {
   "cell_type": "code",
   "execution_count": 141,
   "id": "ff8b1bd9",
   "metadata": {},
   "outputs": [],
   "source": [
    "result = pd.DataFrame({\n",
    "    'cocktail_id' : id_list,\n",
    "    'recommend_ingredient_1' : recommend_ingredient_1,\n",
    "    'recommend_ingredient_2' : recommend_ingredient_2,\n",
    "    'recommend_ingredient_3' : recommend_ingredient_3,\n",
    "    'recommend_ingredient_4' : recommend_ingredient_4,\n",
    "    'recommend_ingredient_5' : recommend_ingredient_5,\n",
    "    'recommend_ingredient_6' : recommend_ingredient_6,\n",
    "    'cocktail_id' : cocktail_id\n",
    "})"
   ]
  },
  {
   "cell_type": "code",
   "execution_count": 144,
   "id": "3cfb3bfc",
   "metadata": {},
   "outputs": [
    {
     "data": {
      "text/html": [
       "<div>\n",
       "<style scoped>\n",
       "    .dataframe tbody tr th:only-of-type {\n",
       "        vertical-align: middle;\n",
       "    }\n",
       "\n",
       "    .dataframe tbody tr th {\n",
       "        vertical-align: top;\n",
       "    }\n",
       "\n",
       "    .dataframe thead th {\n",
       "        text-align: right;\n",
       "    }\n",
       "</style>\n",
       "<table border=\"1\" class=\"dataframe\">\n",
       "  <thead>\n",
       "    <tr style=\"text-align: right;\">\n",
       "      <th></th>\n",
       "      <th>cocktail_id</th>\n",
       "      <th>recommend_ingredient_1</th>\n",
       "      <th>recommend_ingredient_2</th>\n",
       "      <th>recommend_ingredient_3</th>\n",
       "      <th>recommend_ingredient_4</th>\n",
       "      <th>recommend_ingredient_5</th>\n",
       "      <th>recommend_ingredient_6</th>\n",
       "    </tr>\n",
       "  </thead>\n",
       "  <tbody>\n",
       "    <tr>\n",
       "      <th>0</th>\n",
       "      <td>1</td>\n",
       "      <td>487</td>\n",
       "      <td>920</td>\n",
       "      <td>167</td>\n",
       "      <td>1095</td>\n",
       "      <td>769</td>\n",
       "      <td>54</td>\n",
       "    </tr>\n",
       "    <tr>\n",
       "      <th>1</th>\n",
       "      <td>2</td>\n",
       "      <td>1392</td>\n",
       "      <td>2372</td>\n",
       "      <td>549</td>\n",
       "      <td>1555</td>\n",
       "      <td>2355</td>\n",
       "      <td>1557</td>\n",
       "    </tr>\n",
       "    <tr>\n",
       "      <th>2</th>\n",
       "      <td>3</td>\n",
       "      <td>332</td>\n",
       "      <td>666</td>\n",
       "      <td>201</td>\n",
       "      <td>1011</td>\n",
       "      <td>575</td>\n",
       "      <td>71</td>\n",
       "    </tr>\n",
       "    <tr>\n",
       "      <th>3</th>\n",
       "      <td>4</td>\n",
       "      <td>770</td>\n",
       "      <td>853</td>\n",
       "      <td>661</td>\n",
       "      <td>1014</td>\n",
       "      <td>228</td>\n",
       "      <td>293</td>\n",
       "    </tr>\n",
       "    <tr>\n",
       "      <th>4</th>\n",
       "      <td>5</td>\n",
       "      <td>49</td>\n",
       "      <td>604</td>\n",
       "      <td>1124</td>\n",
       "      <td>1015</td>\n",
       "      <td>591</td>\n",
       "      <td>114</td>\n",
       "    </tr>\n",
       "  </tbody>\n",
       "</table>\n",
       "</div>"
      ],
      "text/plain": [
       "   cocktail_id  recommend_ingredient_1  recommend_ingredient_2  \\\n",
       "0            1                     487                     920   \n",
       "1            2                    1392                    2372   \n",
       "2            3                     332                     666   \n",
       "3            4                     770                     853   \n",
       "4            5                      49                     604   \n",
       "\n",
       "   recommend_ingredient_3  recommend_ingredient_4  recommend_ingredient_5  \\\n",
       "0                     167                    1095                     769   \n",
       "1                     549                    1555                    2355   \n",
       "2                     201                    1011                     575   \n",
       "3                     661                    1014                     228   \n",
       "4                    1124                    1015                     591   \n",
       "\n",
       "   recommend_ingredient_6  \n",
       "0                      54  \n",
       "1                    1557  \n",
       "2                      71  \n",
       "3                     293  \n",
       "4                     114  "
      ]
     },
     "execution_count": 144,
     "metadata": {},
     "output_type": "execute_result"
    }
   ],
   "source": [
    "result.head()"
   ]
  },
  {
   "cell_type": "code",
   "execution_count": 145,
   "id": "6acfd2be",
   "metadata": {},
   "outputs": [],
   "source": [
    "result.to_csv('data/recommend_ingredient.csv')"
   ]
  },
  {
   "cell_type": "markdown",
   "id": "429364a7",
   "metadata": {},
   "source": [
    "# 2. 색상 추천 기반 컨텐츠 베이스 알고리즘 (Color Recommendation Based Content Base Algorithm)"
   ]
  },
  {
   "cell_type": "code",
   "execution_count": 146,
   "id": "122ab093",
   "metadata": {},
   "outputs": [],
   "source": [
    "csv = pd.read_csv('data/img_new28.csv')"
   ]
  },
  {
   "cell_type": "code",
   "execution_count": 148,
   "id": "7e076297",
   "metadata": {},
   "outputs": [
    {
     "data": {
      "text/html": [
       "<div>\n",
       "<style scoped>\n",
       "    .dataframe tbody tr th:only-of-type {\n",
       "        vertical-align: middle;\n",
       "    }\n",
       "\n",
       "    .dataframe tbody tr th {\n",
       "        vertical-align: top;\n",
       "    }\n",
       "\n",
       "    .dataframe thead th {\n",
       "        text-align: right;\n",
       "    }\n",
       "</style>\n",
       "<table border=\"1\" class=\"dataframe\">\n",
       "  <thead>\n",
       "    <tr style=\"text-align: right;\">\n",
       "      <th></th>\n",
       "      <th>Unnamed: 0</th>\n",
       "      <th>cocktail_id</th>\n",
       "      <th>name</th>\n",
       "      <th>cocktail_color1</th>\n",
       "      <th>cocktail_color2</th>\n",
       "      <th>url</th>\n",
       "    </tr>\n",
       "  </thead>\n",
       "  <tbody>\n",
       "    <tr>\n",
       "      <th>0</th>\n",
       "      <td>0</td>\n",
       "      <td>0</td>\n",
       "      <td>The Missionary</td>\n",
       "      <td>흰색</td>\n",
       "      <td>흰색</td>\n",
       "      <td>https://kindredcocktails.com/cocktail/missionary</td>\n",
       "    </tr>\n",
       "    <tr>\n",
       "      <th>1</th>\n",
       "      <td>1</td>\n",
       "      <td>1</td>\n",
       "      <td>Missionary's Downfall (Don the Beachcomber)</td>\n",
       "      <td>노란색</td>\n",
       "      <td>노란색</td>\n",
       "      <td>https://kindredcocktails.com/cocktail/missiona...</td>\n",
       "    </tr>\n",
       "    <tr>\n",
       "      <th>2</th>\n",
       "      <td>2</td>\n",
       "      <td>2</td>\n",
       "      <td>Mode Pour les Jeunes</td>\n",
       "      <td>분홍색</td>\n",
       "      <td>흰색</td>\n",
       "      <td>https://kindredcocktails.com/cocktail/mode-pou...</td>\n",
       "    </tr>\n",
       "    <tr>\n",
       "      <th>3</th>\n",
       "      <td>3</td>\n",
       "      <td>3</td>\n",
       "      <td>Mizz Mazza</td>\n",
       "      <td>흰색</td>\n",
       "      <td>노란색</td>\n",
       "      <td>https://kindredcocktails.com/cocktail/mizz-mazza</td>\n",
       "    </tr>\n",
       "    <tr>\n",
       "      <th>4</th>\n",
       "      <td>4</td>\n",
       "      <td>4</td>\n",
       "      <td>Mockingbird, Wish Me Luck</td>\n",
       "      <td>흰색</td>\n",
       "      <td>흰색</td>\n",
       "      <td>https://kindredcocktails.com/cocktail/mockingb...</td>\n",
       "    </tr>\n",
       "  </tbody>\n",
       "</table>\n",
       "</div>"
      ],
      "text/plain": [
       "   Unnamed: 0  cocktail_id                                         name  \\\n",
       "0           0            0                               The Missionary   \n",
       "1           1            1  Missionary's Downfall (Don the Beachcomber)   \n",
       "2           2            2                         Mode Pour les Jeunes   \n",
       "3           3            3                                   Mizz Mazza   \n",
       "4           4            4                    Mockingbird, Wish Me Luck   \n",
       "\n",
       "  cocktail_color1 cocktail_color2  \\\n",
       "0              흰색              흰색   \n",
       "1             노란색             노란색   \n",
       "2             분홍색              흰색   \n",
       "3              흰색             노란색   \n",
       "4              흰색              흰색   \n",
       "\n",
       "                                                 url  \n",
       "0   https://kindredcocktails.com/cocktail/missionary  \n",
       "1  https://kindredcocktails.com/cocktail/missiona...  \n",
       "2  https://kindredcocktails.com/cocktail/mode-pou...  \n",
       "3   https://kindredcocktails.com/cocktail/mizz-mazza  \n",
       "4  https://kindredcocktails.com/cocktail/mockingb...  "
      ]
     },
     "execution_count": 148,
     "metadata": {},
     "output_type": "execute_result"
    }
   ],
   "source": [
    "csv.head()"
   ]
  },
  {
   "cell_type": "code",
   "execution_count": 149,
   "id": "1e33d659",
   "metadata": {},
   "outputs": [],
   "source": [
    "csv = csv.dropna() # 결측치 제거(Remove missing values)"
   ]
  },
  {
   "cell_type": "code",
   "execution_count": 150,
   "id": "7ae14170",
   "metadata": {},
   "outputs": [
    {
     "data": {
      "text/html": [
       "<div>\n",
       "<style scoped>\n",
       "    .dataframe tbody tr th:only-of-type {\n",
       "        vertical-align: middle;\n",
       "    }\n",
       "\n",
       "    .dataframe tbody tr th {\n",
       "        vertical-align: top;\n",
       "    }\n",
       "\n",
       "    .dataframe thead th {\n",
       "        text-align: right;\n",
       "    }\n",
       "</style>\n",
       "<table border=\"1\" class=\"dataframe\">\n",
       "  <thead>\n",
       "    <tr style=\"text-align: right;\">\n",
       "      <th></th>\n",
       "      <th>Unnamed: 0</th>\n",
       "      <th>cocktail_id</th>\n",
       "      <th>name</th>\n",
       "      <th>cocktail_color1</th>\n",
       "      <th>cocktail_color2</th>\n",
       "      <th>url</th>\n",
       "    </tr>\n",
       "  </thead>\n",
       "  <tbody>\n",
       "    <tr>\n",
       "      <th>0</th>\n",
       "      <td>0</td>\n",
       "      <td>0</td>\n",
       "      <td>The Missionary</td>\n",
       "      <td>흰색</td>\n",
       "      <td>흰색</td>\n",
       "      <td>https://kindredcocktails.com/cocktail/missionary</td>\n",
       "    </tr>\n",
       "    <tr>\n",
       "      <th>1</th>\n",
       "      <td>1</td>\n",
       "      <td>1</td>\n",
       "      <td>Missionary's Downfall (Don the Beachcomber)</td>\n",
       "      <td>노란색</td>\n",
       "      <td>노란색</td>\n",
       "      <td>https://kindredcocktails.com/cocktail/missiona...</td>\n",
       "    </tr>\n",
       "    <tr>\n",
       "      <th>2</th>\n",
       "      <td>2</td>\n",
       "      <td>2</td>\n",
       "      <td>Mode Pour les Jeunes</td>\n",
       "      <td>분홍색</td>\n",
       "      <td>흰색</td>\n",
       "      <td>https://kindredcocktails.com/cocktail/mode-pou...</td>\n",
       "    </tr>\n",
       "    <tr>\n",
       "      <th>3</th>\n",
       "      <td>3</td>\n",
       "      <td>3</td>\n",
       "      <td>Mizz Mazza</td>\n",
       "      <td>흰색</td>\n",
       "      <td>노란색</td>\n",
       "      <td>https://kindredcocktails.com/cocktail/mizz-mazza</td>\n",
       "    </tr>\n",
       "    <tr>\n",
       "      <th>4</th>\n",
       "      <td>4</td>\n",
       "      <td>4</td>\n",
       "      <td>Mockingbird, Wish Me Luck</td>\n",
       "      <td>흰색</td>\n",
       "      <td>흰색</td>\n",
       "      <td>https://kindredcocktails.com/cocktail/mockingb...</td>\n",
       "    </tr>\n",
       "  </tbody>\n",
       "</table>\n",
       "</div>"
      ],
      "text/plain": [
       "   Unnamed: 0  cocktail_id                                         name  \\\n",
       "0           0            0                               The Missionary   \n",
       "1           1            1  Missionary's Downfall (Don the Beachcomber)   \n",
       "2           2            2                         Mode Pour les Jeunes   \n",
       "3           3            3                                   Mizz Mazza   \n",
       "4           4            4                    Mockingbird, Wish Me Luck   \n",
       "\n",
       "  cocktail_color1 cocktail_color2  \\\n",
       "0              흰색              흰색   \n",
       "1             노란색             노란색   \n",
       "2             분홍색              흰색   \n",
       "3              흰색             노란색   \n",
       "4              흰색              흰색   \n",
       "\n",
       "                                                 url  \n",
       "0   https://kindredcocktails.com/cocktail/missionary  \n",
       "1  https://kindredcocktails.com/cocktail/missiona...  \n",
       "2  https://kindredcocktails.com/cocktail/mode-pou...  \n",
       "3   https://kindredcocktails.com/cocktail/mizz-mazza  \n",
       "4  https://kindredcocktails.com/cocktail/mockingb...  "
      ]
     },
     "execution_count": 150,
     "metadata": {},
     "output_type": "execute_result"
    }
   ],
   "source": [
    "csv.head()"
   ]
  },
  {
   "cell_type": "code",
   "execution_count": 151,
   "id": "81c2e813",
   "metadata": {
    "scrolled": true
   },
   "outputs": [
    {
     "data": {
      "text/plain": [
       "1"
      ]
     },
     "execution_count": 151,
     "metadata": {},
     "output_type": "execute_result"
    }
   ],
   "source": [
    "csv[csv['cocktail_id']==1].iloc[0]['cocktail_id']"
   ]
  },
  {
   "cell_type": "markdown",
   "id": "cb75233d",
   "metadata": {},
   "source": [
    "# TF-IDF 를 위한 데이터프레임 만들기(Creating a data frame for TF-IDF)"
   ]
  },
  {
   "cell_type": "code",
   "execution_count": 152,
   "id": "4d19d6b2",
   "metadata": {},
   "outputs": [
    {
     "data": {
      "text/plain": [
       "0          0\n",
       "1          1\n",
       "2          2\n",
       "3          3\n",
       "4          4\n",
       "        ... \n",
       "3669    3669\n",
       "3670    3670\n",
       "3672    3672\n",
       "3673    3673\n",
       "3674    3674\n",
       "Name: cocktail_id, Length: 3329, dtype: int64"
      ]
     },
     "execution_count": 152,
     "metadata": {},
     "output_type": "execute_result"
    }
   ],
   "source": [
    "csv['cocktail_id']"
   ]
  },
  {
   "cell_type": "code",
   "execution_count": 154,
   "id": "cedbb8e2",
   "metadata": {},
   "outputs": [],
   "source": [
    "color_list = []\n",
    "for cid in csv['cocktail_id']: # 칵테일 id(Cocktail ID)\n",
    "    # 칵테일 색상 2가지(Two cocktail colors)\n",
    "    color = ''\n",
    "    color += csv[csv['cocktail_id'] == cid].iloc[0]['cocktail_color1'] + ' '\n",
    "    color += csv[csv['cocktail_id'] == cid].iloc[0]['cocktail_color2'] + ' '\n",
    "    color_list.append(color)"
   ]
  },
  {
   "cell_type": "code",
   "execution_count": 155,
   "id": "3d777a7c",
   "metadata": {},
   "outputs": [
    {
     "data": {
      "text/plain": [
       "'분홍색 흰색 '"
      ]
     },
     "execution_count": 155,
     "metadata": {},
     "output_type": "execute_result"
    }
   ],
   "source": [
    "color_list[2]"
   ]
  },
  {
   "cell_type": "code",
   "execution_count": 156,
   "id": "7e57e4f2",
   "metadata": {},
   "outputs": [],
   "source": [
    "data = pd.DataFrame({\n",
    "    'cocktail_id' : csv['cocktail_id'],\n",
    "    'cocktail_color' : color_list\n",
    "})"
   ]
  },
  {
   "cell_type": "code",
   "execution_count": 157,
   "id": "d266307b",
   "metadata": {},
   "outputs": [
    {
     "data": {
      "text/html": [
       "<div>\n",
       "<style scoped>\n",
       "    .dataframe tbody tr th:only-of-type {\n",
       "        vertical-align: middle;\n",
       "    }\n",
       "\n",
       "    .dataframe tbody tr th {\n",
       "        vertical-align: top;\n",
       "    }\n",
       "\n",
       "    .dataframe thead th {\n",
       "        text-align: right;\n",
       "    }\n",
       "</style>\n",
       "<table border=\"1\" class=\"dataframe\">\n",
       "  <thead>\n",
       "    <tr style=\"text-align: right;\">\n",
       "      <th></th>\n",
       "      <th>index</th>\n",
       "      <th>cocktail_id</th>\n",
       "      <th>cocktail_color</th>\n",
       "    </tr>\n",
       "  </thead>\n",
       "  <tbody>\n",
       "    <tr>\n",
       "      <th>0</th>\n",
       "      <td>0</td>\n",
       "      <td>0</td>\n",
       "      <td>흰색 흰색</td>\n",
       "    </tr>\n",
       "    <tr>\n",
       "      <th>1</th>\n",
       "      <td>1</td>\n",
       "      <td>1</td>\n",
       "      <td>노란색 노란색</td>\n",
       "    </tr>\n",
       "    <tr>\n",
       "      <th>2</th>\n",
       "      <td>2</td>\n",
       "      <td>2</td>\n",
       "      <td>분홍색 흰색</td>\n",
       "    </tr>\n",
       "    <tr>\n",
       "      <th>3</th>\n",
       "      <td>3</td>\n",
       "      <td>3</td>\n",
       "      <td>흰색 노란색</td>\n",
       "    </tr>\n",
       "    <tr>\n",
       "      <th>4</th>\n",
       "      <td>4</td>\n",
       "      <td>4</td>\n",
       "      <td>흰색 흰색</td>\n",
       "    </tr>\n",
       "  </tbody>\n",
       "</table>\n",
       "</div>"
      ],
      "text/plain": [
       "   index  cocktail_id cocktail_color\n",
       "0      0            0         흰색 흰색 \n",
       "1      1            1       노란색 노란색 \n",
       "2      2            2        분홍색 흰색 \n",
       "3      3            3        흰색 노란색 \n",
       "4      4            4         흰색 흰색 "
      ]
     },
     "execution_count": 157,
     "metadata": {},
     "output_type": "execute_result"
    }
   ],
   "source": [
    "data = data.reset_index() # 인덱스 초기화(Index initialization)\n",
    "data.head()"
   ]
  },
  {
   "cell_type": "code",
   "execution_count": 158,
   "id": "0bf47315",
   "metadata": {},
   "outputs": [],
   "source": [
    "id_to_index = dict(zip(data['cocktail_id'], data.index))"
   ]
  },
  {
   "cell_type": "markdown",
   "id": "16581634",
   "metadata": {},
   "source": [
    "# TF-IDF 구현 (implement TF-IDF)"
   ]
  },
  {
   "cell_type": "code",
   "execution_count": 159,
   "id": "fe61f69b",
   "metadata": {},
   "outputs": [],
   "source": [
    "import pandas as pd\n",
    "from sklearn.feature_extraction.text import TfidfVectorizer\n",
    "from sklearn.metrics.pairwise import cosine_similarity"
   ]
  },
  {
   "cell_type": "code",
   "execution_count": 160,
   "id": "30a1ae33",
   "metadata": {},
   "outputs": [
    {
     "name": "stdout",
     "output_type": "stream",
     "text": [
      "TF-IDF 행렬의 크기(shape) : (3329, 9)\n"
     ]
    }
   ],
   "source": [
    "tfidf = TfidfVectorizer(stop_words='english')\n",
    "tfidf_matrix = tfidf.fit_transform(data['cocktail_color'])\n",
    "print('TF-IDF 행렬의 크기(shape) :',tfidf_matrix.shape)\n",
    "# 출력: TF-IDF 행렬의 크기(shape) : (3676, 2036)\n",
    "# TF-IDF 행렬의 크기는 3329의 행을 가지고 9의 열을 가지는 행렬이다\n",
    "# 3329개의 칵테일을 표현하기 위해서 총 9개의 색상이 사용되었다\n",
    "# Output: Size of TF-IDF matrix (shape): (3676, 2036)\n",
    "# The size of the TF-IDF matrix is a matrix with rows of 3329 and columns of 9\n",
    "# A total of nine colors were used to express 3329 cocktails"
   ]
  },
  {
   "cell_type": "markdown",
   "id": "329ca634",
   "metadata": {},
   "source": [
    "# TF-IDF 행렬의 코사인 유사도 계산 (Calculate cosine similarity of TF-IDF matrix)"
   ]
  },
  {
   "cell_type": "code",
   "execution_count": 161,
   "id": "77d959b2",
   "metadata": {},
   "outputs": [
    {
     "name": "stdout",
     "output_type": "stream",
     "text": [
      "코사인 유사도 연산 결과 : (3329, 3329)\n"
     ]
    }
   ],
   "source": [
    "cosine_sim = cosine_similarity(tfidf_matrix, tfidf_matrix)\n",
    "print('코사인 유사도 연산 결과 :',cosine_sim.shape) # Cosine similarity calculation results"
   ]
  },
  {
   "cell_type": "markdown",
   "id": "52d88d5e",
   "metadata": {},
   "source": [
    "# 색상 기반 유사한 칵테일 추천 상위 6개(Top 6 color-based similar cocktails recommendations)"
   ]
  },
  {
   "cell_type": "code",
   "execution_count": 162,
   "id": "cbff835f",
   "metadata": {},
   "outputs": [],
   "source": [
    "def get_recommendations(cid, cosine_sim=cosine_sim):\n",
    "    # 선택한 칵테일의 id로부터 해당 칵테일의 인덱스를 받아온다.\n",
    "    # Gets the index of the cocktail from the id of the selected cocktail..\n",
    "    idx = id_to_index[cid]\n",
    "    \n",
    "    # 해당 칵테일과 모든 칵테일의 유사도를 가져온다.\n",
    "    # Bring the similarity of all cocktails to the corresponding cocktails\n",
    "    sim_scores = list(enumerate(cosine_sim[idx]))\n",
    "\n",
    "    # 유사도에 따라 칵테일들을 정렬한다.\n",
    "    # Sort cocktails according to similarity.\n",
    "    sim_scores = sorted(sim_scores, key=lambda x: x[1], reverse=True)\n",
    "\n",
    "    # 가장 유사한 6개의 칵테일를 받아온다.\n",
    "    # I get the six most similar cocktails.\n",
    "    sim_scores = sim_scores[1:7]\n",
    "\n",
    "    # 가장 유사한 6개의 칵테일의 인덱스를 얻는다.\n",
    "    # Get indexes of the six most similar cocktails\n",
    "    cocktail_indices = [idx[0] for idx in sim_scores]\n",
    "\n",
    "    # 가장 유사한 6개의 칵테일의 인덱스를 리턴한다.\n",
    "    # Returns the index of the six most similar cocktails.\n",
    "    return cocktail_indices"
   ]
  },
  {
   "cell_type": "code",
   "execution_count": 163,
   "id": "2f178288",
   "metadata": {},
   "outputs": [
    {
     "data": {
      "text/plain": [
       "[43, 70, 76, 152, 201, 256]"
      ]
     },
     "execution_count": 163,
     "metadata": {},
     "output_type": "execute_result"
    }
   ],
   "source": [
    "get_recommendations(1)"
   ]
  },
  {
   "cell_type": "markdown",
   "id": "b1fbd368",
   "metadata": {},
   "source": [
    "# 결과 데이터프레임 생성 및 저장(Create and save the resulting data frame)"
   ]
  },
  {
   "cell_type": "code",
   "execution_count": 165,
   "id": "1e8a1f85",
   "metadata": {},
   "outputs": [],
   "source": [
    "recommend_color_1=[]\n",
    "recommend_color_2=[]\n",
    "recommend_color_3=[]\n",
    "recommend_color_4=[]\n",
    "recommend_color_5=[]\n",
    "recommend_color_6=[]\n",
    "cocktail_id=[]\n",
    "\n",
    "for cid in csv['cocktail_id']: # 칵테일 id(Cocktail ID)\n",
    "    re = get_recommendations(cid) # 색상 추천 칵테일 id (Color recommendation cocktail id)\n",
    "    recommend_color_1.append(re[0])\n",
    "    recommend_color_2.append(re[1])\n",
    "    recommend_color_3.append(re[2])\n",
    "    recommend_color_4.append(re[3])\n",
    "    recommend_color_5.append(re[4])\n",
    "    recommend_color_6.append(re[5])\n",
    "    cocktail_id.append(cid)"
   ]
  },
  {
   "cell_type": "code",
   "execution_count": 166,
   "id": "d1f1f04f",
   "metadata": {},
   "outputs": [],
   "source": [
    "result = pd.DataFrame({\n",
    "    'cocktail_id' : id_list,\n",
    "    'recommend_color_1' : recommend_color_1,\n",
    "    'recommend_color_2' : recommend_color_2,\n",
    "    'recommend_color_3' : recommend_color_3,\n",
    "    'recommend_color_4' : recommend_color_4,\n",
    "    'recommend_color_5' : recommend_color_5,\n",
    "    'recommend_color_6' : recommend_color_6,\n",
    "    'cocktail_id' : cocktail_id\n",
    "})"
   ]
  },
  {
   "cell_type": "code",
   "execution_count": 167,
   "id": "3481ecae",
   "metadata": {},
   "outputs": [
    {
     "data": {
      "text/html": [
       "<div>\n",
       "<style scoped>\n",
       "    .dataframe tbody tr th:only-of-type {\n",
       "        vertical-align: middle;\n",
       "    }\n",
       "\n",
       "    .dataframe tbody tr th {\n",
       "        vertical-align: top;\n",
       "    }\n",
       "\n",
       "    .dataframe thead th {\n",
       "        text-align: right;\n",
       "    }\n",
       "</style>\n",
       "<table border=\"1\" class=\"dataframe\">\n",
       "  <thead>\n",
       "    <tr style=\"text-align: right;\">\n",
       "      <th></th>\n",
       "      <th>cocktail_id</th>\n",
       "      <th>recommend_color_1</th>\n",
       "      <th>recommend_color_2</th>\n",
       "      <th>recommend_color_3</th>\n",
       "      <th>recommend_color_4</th>\n",
       "      <th>recommend_color_5</th>\n",
       "      <th>recommend_color_6</th>\n",
       "    </tr>\n",
       "  </thead>\n",
       "  <tbody>\n",
       "    <tr>\n",
       "      <th>0</th>\n",
       "      <td>0</td>\n",
       "      <td>4</td>\n",
       "      <td>5</td>\n",
       "      <td>7</td>\n",
       "      <td>9</td>\n",
       "      <td>13</td>\n",
       "      <td>15</td>\n",
       "    </tr>\n",
       "    <tr>\n",
       "      <th>1</th>\n",
       "      <td>1</td>\n",
       "      <td>43</td>\n",
       "      <td>70</td>\n",
       "      <td>76</td>\n",
       "      <td>152</td>\n",
       "      <td>201</td>\n",
       "      <td>256</td>\n",
       "    </tr>\n",
       "    <tr>\n",
       "      <th>2</th>\n",
       "      <td>2</td>\n",
       "      <td>26</td>\n",
       "      <td>32</td>\n",
       "      <td>41</td>\n",
       "      <td>51</td>\n",
       "      <td>52</td>\n",
       "      <td>57</td>\n",
       "    </tr>\n",
       "    <tr>\n",
       "      <th>3</th>\n",
       "      <td>3</td>\n",
       "      <td>17</td>\n",
       "      <td>20</td>\n",
       "      <td>25</td>\n",
       "      <td>31</td>\n",
       "      <td>36</td>\n",
       "      <td>40</td>\n",
       "    </tr>\n",
       "    <tr>\n",
       "      <th>4</th>\n",
       "      <td>4</td>\n",
       "      <td>4</td>\n",
       "      <td>5</td>\n",
       "      <td>7</td>\n",
       "      <td>9</td>\n",
       "      <td>13</td>\n",
       "      <td>15</td>\n",
       "    </tr>\n",
       "  </tbody>\n",
       "</table>\n",
       "</div>"
      ],
      "text/plain": [
       "   cocktail_id  recommend_color_1  recommend_color_2  recommend_color_3  \\\n",
       "0            0                  4                  5                  7   \n",
       "1            1                 43                 70                 76   \n",
       "2            2                 26                 32                 41   \n",
       "3            3                 17                 20                 25   \n",
       "4            4                  4                  5                  7   \n",
       "\n",
       "   recommend_color_4  recommend_color_5  recommend_color_6  \n",
       "0                  9                 13                 15  \n",
       "1                152                201                256  \n",
       "2                 51                 52                 57  \n",
       "3                 31                 36                 40  \n",
       "4                  9                 13                 15  "
      ]
     },
     "execution_count": 167,
     "metadata": {},
     "output_type": "execute_result"
    }
   ],
   "source": [
    "result.head()"
   ]
  },
  {
   "cell_type": "code",
   "execution_count": 168,
   "id": "c1393506",
   "metadata": {},
   "outputs": [],
   "source": [
    "result.to_csv('data/recommend_color.csv')"
   ]
  },
  {
   "cell_type": "code",
   "execution_count": null,
   "id": "623c433e",
   "metadata": {},
   "outputs": [],
   "source": []
  }
 ],
 "metadata": {
  "kernelspec": {
   "display_name": "Python 3 (ipykernel)",
   "language": "python",
   "name": "python3"
  },
  "language_info": {
   "codemirror_mode": {
    "name": "ipython",
    "version": 3
   },
   "file_extension": ".py",
   "mimetype": "text/x-python",
   "name": "python",
   "nbconvert_exporter": "python",
   "pygments_lexer": "ipython3",
   "version": "3.9.13"
  }
 },
 "nbformat": 4,
 "nbformat_minor": 5
}
